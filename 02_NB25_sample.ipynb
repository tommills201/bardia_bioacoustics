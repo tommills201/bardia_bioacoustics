{
 "cells": [
  {
   "cell_type": "markdown",
   "id": "d44c7cc9-75b4-404d-8029-4768b6681318",
   "metadata": {},
   "source": [
    "DONE - UPDATED 29 AUG 25"
   ]
  },
  {
   "cell_type": "markdown",
   "id": "f3c7e9e4-0d02-4158-895e-366256d5d29a",
   "metadata": {},
   "source": [
    "# 02_NB25 Sample Extraction"
   ]
  },
  {
   "cell_type": "code",
   "execution_count": 1,
   "id": "72890819-9563-4d2f-b8a0-a16b3271eb32",
   "metadata": {},
   "outputs": [
    {
     "name": "stdout",
     "output_type": "stream",
     "text": [
      "/home/jupyter-tommills/.conda/envs/nepalbirds25/bin/python\n"
     ]
    }
   ],
   "source": [
    "# checks conda path and environment\n",
    "import pandas as pd\n",
    "import os\n",
    "from datetime import timedelta\n",
    "import sys\n",
    "print(sys.executable)"
   ]
  },
  {
   "cell_type": "code",
   "execution_count": 2,
   "id": "20636bbe-5d48-4685-815d-bc0b7aac883e",
   "metadata": {},
   "outputs": [
    {
     "data": {
      "text/plain": [
       "'/home/jupyter-tommills/Nepal_Birds_TM'"
      ]
     },
     "execution_count": 2,
     "metadata": {},
     "output_type": "execute_result"
    }
   ],
   "source": [
    "os.getcwd()"
   ]
  },
  {
   "cell_type": "markdown",
   "id": "b7a57269-8bc2-4bb5-a5ee-15ca209f798b",
   "metadata": {},
   "source": [
    "***************"
   ]
  },
  {
   "cell_type": "markdown",
   "id": "f82b1173-8ca9-4656-b390-f818b7ff8219",
   "metadata": {},
   "source": [
    "## **Reduce sample size to stratified sample**"
   ]
  },
  {
   "cell_type": "markdown",
   "id": "75b2d48e-5be3-43b1-9733-10d482d06159",
   "metadata": {},
   "source": [
    "**Aim:** \n",
    "Subset 2021 feature set to:\n",
    "- Recorders with at least 7 days continuous recording \n",
    "- Take every 8th 1-min file per recorder; ie 1-min every 2 hours "
   ]
  },
  {
   "cell_type": "code",
   "execution_count": 3,
   "id": "a28a49c2-e856-4414-878a-3cc2db8f9a73",
   "metadata": {
    "scrolled": true
   },
   "outputs": [],
   "source": [
    "# read in datasets \n",
    "nepalbirds_metadata2021 = pd.read_csv(\"data/nepal/metadata/nepalbirds_metadata2021.csv\")\n",
    "nepalbirds_features = pd.read_parquet(\"data/nepal/birdnet_features/nepalfeatures_merged.parquet\")"
   ]
  },
  {
   "cell_type": "code",
   "execution_count": 4,
   "id": "2db18255-d2a0-4689-a38f-5fc479915d76",
   "metadata": {},
   "outputs": [],
   "source": [
    "# filter features by year = 2021\n",
    "nepalbirds_features['year'] = nepalbirds_features['path'].str.split('/').str[4]\n",
    "nepalbirds_features2021 = nepalbirds_features[nepalbirds_features['year'] == '2021']"
   ]
  },
  {
   "cell_type": "markdown",
   "id": "dbd5f226-591a-45fa-939e-bfb9ddd20b90",
   "metadata": {},
   "source": [
    "### **Step 1 - Add times, regimes and site columns to the features dataset**"
   ]
  },
  {
   "cell_type": "code",
   "execution_count": 5,
   "id": "8fa89b7c-ae72-43a6-8138-7491d3e62bec",
   "metadata": {},
   "outputs": [],
   "source": [
    "# add 'recorded_on' and 'site' as columns\n",
    "NB25_fm_2021 = nepalbirds_features2021.merge(\n",
    "    nepalbirds_metadata2021[['path', 'recorded_on', 'site']],\n",
    "    on='path',\n",
    "    how='left')\n",
    "# add 'regime' column\n",
    "NB25_fm_2021['regime'] = NB25_fm_2021['site'].str[:2]"
   ]
  },
  {
   "cell_type": "code",
   "execution_count": 6,
   "id": "9725d34c-7c4c-4386-afc5-fc23800cc764",
   "metadata": {},
   "outputs": [
    {
     "name": "stdout",
     "output_type": "stream",
     "text": [
      "Unique sites: 58\n"
     ]
    }
   ],
   "source": [
    "# check correct number of sites\n",
    "unique_sites = NB25_fm_2021['site'].nunique()\n",
    "print(f\"Unique sites: {unique_sites}\")"
   ]
  },
  {
   "cell_type": "markdown",
   "id": "bc34e401-1d9d-4aaf-bcd8-c40af62b815b",
   "metadata": {},
   "source": [
    "### **Step 2 - Filter out sites with fewer than 7 days audio**"
   ]
  },
  {
   "cell_type": "code",
   "execution_count": 7,
   "id": "7b1a665f-e872-4598-b624-4794c2e9b202",
   "metadata": {},
   "outputs": [
    {
     "data": {
      "text/html": [
       "<div>\n",
       "<style scoped>\n",
       "    .dataframe tbody tr th:only-of-type {\n",
       "        vertical-align: middle;\n",
       "    }\n",
       "\n",
       "    .dataframe tbody tr th {\n",
       "        vertical-align: top;\n",
       "    }\n",
       "\n",
       "    .dataframe thead th {\n",
       "        text-align: right;\n",
       "    }\n",
       "</style>\n",
       "<table border=\"1\" class=\"dataframe\">\n",
       "  <thead>\n",
       "    <tr style=\"text-align: right;\">\n",
       "      <th></th>\n",
       "      <th>path</th>\n",
       "      <th>start_time</th>\n",
       "      <th>end_time</th>\n",
       "      <th>BirdNET_0</th>\n",
       "      <th>BirdNET_1</th>\n",
       "      <th>BirdNET_2</th>\n",
       "      <th>BirdNET_3</th>\n",
       "      <th>BirdNET_4</th>\n",
       "      <th>BirdNET_5</th>\n",
       "      <th>BirdNET_6</th>\n",
       "      <th>...</th>\n",
       "      <th>BirdNET_1015</th>\n",
       "      <th>BirdNET_1016</th>\n",
       "      <th>BirdNET_1017</th>\n",
       "      <th>BirdNET_1018</th>\n",
       "      <th>BirdNET_1019</th>\n",
       "      <th>BirdNET_1020</th>\n",
       "      <th>BirdNET_1021</th>\n",
       "      <th>BirdNET_1022</th>\n",
       "      <th>BirdNET_1023</th>\n",
       "      <th>year</th>\n",
       "    </tr>\n",
       "  </thead>\n",
       "  <tbody>\n",
       "    <tr>\n",
       "      <th>3423</th>\n",
       "      <td>downloads/NP/NP30/PAM/2021/NP30_20210422_14300...</td>\n",
       "      <td>0.0</td>\n",
       "      <td>3.0</td>\n",
       "      <td>0.091834</td>\n",
       "      <td>0.249815</td>\n",
       "      <td>0.113273</td>\n",
       "      <td>1.078636</td>\n",
       "      <td>0.365445</td>\n",
       "      <td>0.370891</td>\n",
       "      <td>0.000000</td>\n",
       "      <td>...</td>\n",
       "      <td>1.012715</td>\n",
       "      <td>0.219605</td>\n",
       "      <td>0.0</td>\n",
       "      <td>0.231928</td>\n",
       "      <td>0.198208</td>\n",
       "      <td>0.433792</td>\n",
       "      <td>0.138966</td>\n",
       "      <td>0.217478</td>\n",
       "      <td>0.581902</td>\n",
       "      <td>2021</td>\n",
       "    </tr>\n",
       "    <tr>\n",
       "      <th>3424</th>\n",
       "      <td>downloads/NP/NP30/PAM/2021/NP30_20210422_14300...</td>\n",
       "      <td>3.0</td>\n",
       "      <td>6.0</td>\n",
       "      <td>0.195594</td>\n",
       "      <td>0.063544</td>\n",
       "      <td>0.079855</td>\n",
       "      <td>0.779105</td>\n",
       "      <td>0.266044</td>\n",
       "      <td>0.329836</td>\n",
       "      <td>0.001157</td>\n",
       "      <td>...</td>\n",
       "      <td>0.927807</td>\n",
       "      <td>0.000000</td>\n",
       "      <td>0.0</td>\n",
       "      <td>0.649267</td>\n",
       "      <td>0.114159</td>\n",
       "      <td>0.270783</td>\n",
       "      <td>0.031773</td>\n",
       "      <td>0.259857</td>\n",
       "      <td>0.472207</td>\n",
       "      <td>2021</td>\n",
       "    </tr>\n",
       "    <tr>\n",
       "      <th>3425</th>\n",
       "      <td>downloads/NP/NP30/PAM/2021/NP30_20210422_14300...</td>\n",
       "      <td>6.0</td>\n",
       "      <td>9.0</td>\n",
       "      <td>0.133215</td>\n",
       "      <td>0.186157</td>\n",
       "      <td>0.000000</td>\n",
       "      <td>0.993188</td>\n",
       "      <td>0.253370</td>\n",
       "      <td>0.284816</td>\n",
       "      <td>0.000000</td>\n",
       "      <td>...</td>\n",
       "      <td>0.968302</td>\n",
       "      <td>0.132490</td>\n",
       "      <td>0.0</td>\n",
       "      <td>0.496252</td>\n",
       "      <td>0.000000</td>\n",
       "      <td>0.413925</td>\n",
       "      <td>0.014390</td>\n",
       "      <td>0.317584</td>\n",
       "      <td>0.333687</td>\n",
       "      <td>2021</td>\n",
       "    </tr>\n",
       "    <tr>\n",
       "      <th>3426</th>\n",
       "      <td>downloads/NP/NP30/PAM/2021/NP30_20210422_14300...</td>\n",
       "      <td>9.0</td>\n",
       "      <td>12.0</td>\n",
       "      <td>0.069973</td>\n",
       "      <td>0.051973</td>\n",
       "      <td>0.785590</td>\n",
       "      <td>0.129056</td>\n",
       "      <td>0.289650</td>\n",
       "      <td>0.508400</td>\n",
       "      <td>0.000000</td>\n",
       "      <td>...</td>\n",
       "      <td>0.207206</td>\n",
       "      <td>0.000000</td>\n",
       "      <td>0.0</td>\n",
       "      <td>0.265115</td>\n",
       "      <td>0.000000</td>\n",
       "      <td>0.369664</td>\n",
       "      <td>0.232464</td>\n",
       "      <td>0.447781</td>\n",
       "      <td>0.296311</td>\n",
       "      <td>2021</td>\n",
       "    </tr>\n",
       "    <tr>\n",
       "      <th>3427</th>\n",
       "      <td>downloads/NP/NP30/PAM/2021/NP30_20210422_14300...</td>\n",
       "      <td>12.0</td>\n",
       "      <td>15.0</td>\n",
       "      <td>0.178235</td>\n",
       "      <td>0.204697</td>\n",
       "      <td>0.000000</td>\n",
       "      <td>0.599773</td>\n",
       "      <td>0.222770</td>\n",
       "      <td>0.436152</td>\n",
       "      <td>0.058033</td>\n",
       "      <td>...</td>\n",
       "      <td>1.077979</td>\n",
       "      <td>0.101276</td>\n",
       "      <td>0.0</td>\n",
       "      <td>0.362332</td>\n",
       "      <td>0.060755</td>\n",
       "      <td>0.163080</td>\n",
       "      <td>0.113382</td>\n",
       "      <td>0.345325</td>\n",
       "      <td>0.291305</td>\n",
       "      <td>2021</td>\n",
       "    </tr>\n",
       "  </tbody>\n",
       "</table>\n",
       "<p>5 rows × 1028 columns</p>\n",
       "</div>"
      ],
      "text/plain": [
       "                                                   path  start_time  end_time  \\\n",
       "3423  downloads/NP/NP30/PAM/2021/NP30_20210422_14300...         0.0       3.0   \n",
       "3424  downloads/NP/NP30/PAM/2021/NP30_20210422_14300...         3.0       6.0   \n",
       "3425  downloads/NP/NP30/PAM/2021/NP30_20210422_14300...         6.0       9.0   \n",
       "3426  downloads/NP/NP30/PAM/2021/NP30_20210422_14300...         9.0      12.0   \n",
       "3427  downloads/NP/NP30/PAM/2021/NP30_20210422_14300...        12.0      15.0   \n",
       "\n",
       "      BirdNET_0  BirdNET_1  BirdNET_2  BirdNET_3  BirdNET_4  BirdNET_5  \\\n",
       "3423   0.091834   0.249815   0.113273   1.078636   0.365445   0.370891   \n",
       "3424   0.195594   0.063544   0.079855   0.779105   0.266044   0.329836   \n",
       "3425   0.133215   0.186157   0.000000   0.993188   0.253370   0.284816   \n",
       "3426   0.069973   0.051973   0.785590   0.129056   0.289650   0.508400   \n",
       "3427   0.178235   0.204697   0.000000   0.599773   0.222770   0.436152   \n",
       "\n",
       "      BirdNET_6  ...  BirdNET_1015  BirdNET_1016  BirdNET_1017  BirdNET_1018  \\\n",
       "3423   0.000000  ...      1.012715      0.219605           0.0      0.231928   \n",
       "3424   0.001157  ...      0.927807      0.000000           0.0      0.649267   \n",
       "3425   0.000000  ...      0.968302      0.132490           0.0      0.496252   \n",
       "3426   0.000000  ...      0.207206      0.000000           0.0      0.265115   \n",
       "3427   0.058033  ...      1.077979      0.101276           0.0      0.362332   \n",
       "\n",
       "      BirdNET_1019  BirdNET_1020  BirdNET_1021  BirdNET_1022  BirdNET_1023  \\\n",
       "3423      0.198208      0.433792      0.138966      0.217478      0.581902   \n",
       "3424      0.114159      0.270783      0.031773      0.259857      0.472207   \n",
       "3425      0.000000      0.413925      0.014390      0.317584      0.333687   \n",
       "3426      0.000000      0.369664      0.232464      0.447781      0.296311   \n",
       "3427      0.060755      0.163080      0.113382      0.345325      0.291305   \n",
       "\n",
       "      year  \n",
       "3423  2021  \n",
       "3424  2021  \n",
       "3425  2021  \n",
       "3426  2021  \n",
       "3427  2021  \n",
       "\n",
       "[5 rows x 1028 columns]"
      ]
     },
     "execution_count": 7,
     "metadata": {},
     "output_type": "execute_result"
    }
   ],
   "source": [
    "nepalbirds_features2021.head()"
   ]
  },
  {
   "cell_type": "code",
   "execution_count": 8,
   "id": "cdd3d2ae-7ee7-42f1-8557-beaec4cf448c",
   "metadata": {
    "scrolled": true
   },
   "outputs": [
    {
     "data": {
      "text/html": [
       "<div>\n",
       "<style scoped>\n",
       "    .dataframe tbody tr th:only-of-type {\n",
       "        vertical-align: middle;\n",
       "    }\n",
       "\n",
       "    .dataframe tbody tr th {\n",
       "        vertical-align: top;\n",
       "    }\n",
       "\n",
       "    .dataframe thead th {\n",
       "        text-align: right;\n",
       "    }\n",
       "</style>\n",
       "<table border=\"1\" class=\"dataframe\">\n",
       "  <thead>\n",
       "    <tr style=\"text-align: right;\">\n",
       "      <th></th>\n",
       "      <th>site</th>\n",
       "      <th>min</th>\n",
       "      <th>max</th>\n",
       "      <th>days_span</th>\n",
       "      <th>regime</th>\n",
       "    </tr>\n",
       "  </thead>\n",
       "  <tbody>\n",
       "    <tr>\n",
       "      <th>0</th>\n",
       "      <td>OBZ39</td>\n",
       "      <td>2021-04-23 17:45:00</td>\n",
       "      <td>2021-05-02 13:45:00</td>\n",
       "      <td>8</td>\n",
       "      <td>OB</td>\n",
       "    </tr>\n",
       "    <tr>\n",
       "      <th>1</th>\n",
       "      <td>OBZ07</td>\n",
       "      <td>2021-04-23 19:00:00</td>\n",
       "      <td>2021-05-02 18:00:00</td>\n",
       "      <td>8</td>\n",
       "      <td>OB</td>\n",
       "    </tr>\n",
       "    <tr>\n",
       "      <th>2</th>\n",
       "      <td>BZ40</td>\n",
       "      <td>2021-04-24 12:15:00</td>\n",
       "      <td>2021-05-03 16:45:00</td>\n",
       "      <td>9</td>\n",
       "      <td>BZ</td>\n",
       "    </tr>\n",
       "    <tr>\n",
       "      <th>3</th>\n",
       "      <td>OBZ35</td>\n",
       "      <td>2021-04-22 16:00:00</td>\n",
       "      <td>2021-05-02 13:00:00</td>\n",
       "      <td>9</td>\n",
       "      <td>OB</td>\n",
       "    </tr>\n",
       "    <tr>\n",
       "      <th>4</th>\n",
       "      <td>BZ48</td>\n",
       "      <td>2021-03-26 14:15:00</td>\n",
       "      <td>2021-04-09 20:30:00</td>\n",
       "      <td>14</td>\n",
       "      <td>BZ</td>\n",
       "    </tr>\n",
       "  </tbody>\n",
       "</table>\n",
       "</div>"
      ],
      "text/plain": [
       "    site                  min                  max  days_span regime\n",
       "0  OBZ39  2021-04-23 17:45:00  2021-05-02 13:45:00          8     OB\n",
       "1  OBZ07  2021-04-23 19:00:00  2021-05-02 18:00:00          8     OB\n",
       "2   BZ40  2021-04-24 12:15:00  2021-05-03 16:45:00          9     BZ\n",
       "3  OBZ35  2021-04-22 16:00:00  2021-05-02 13:00:00          9     OB\n",
       "4   BZ48  2021-03-26 14:15:00  2021-04-09 20:30:00         14     BZ"
      ]
     },
     "execution_count": 8,
     "metadata": {},
     "output_type": "execute_result"
    }
   ],
   "source": [
    "# read in dataset of sites with 7 days or more data\n",
    "sites_7daysplus = pd.read_csv(\"sites_7daysplus.csv\")\n",
    "sites_7daysplus.head()"
   ]
  },
  {
   "cell_type": "code",
   "execution_count": 9,
   "id": "107126fc-7faa-49ce-984b-690cbe430b25",
   "metadata": {},
   "outputs": [
    {
     "name": "stdout",
     "output_type": "stream",
     "text": [
      "Sites: full = 58, filtered = 58\n",
      "Correct\n"
     ]
    }
   ],
   "source": [
    "# filter to only include sites from nepalbirds_features2021\n",
    "NB25_fm_2021_7day = NB25_fm_2021[\n",
    "    NB25_fm_2021['site'].isin(sites_7daysplus['site'])]\n",
    "\n",
    "# count sites in new dataframe to check\n",
    "site_count_2021 = NB25_fm_2021['site'].nunique()\n",
    "site_count_2021_7days = NB25_fm_2021_7day['site'].nunique()\n",
    "print(f\"Sites: full = {site_count_2021}, filtered = {site_count_2021_7days}\")\n",
    "print(\"Correct\")"
   ]
  },
  {
   "cell_type": "code",
   "execution_count": 10,
   "id": "87a8440b-4479-41e8-8943-54680636efea",
   "metadata": {},
   "outputs": [
    {
     "name": "stdout",
     "output_type": "stream",
     "text": [
      "  regime  count\n",
      "0     BZ     20\n",
      "1     NP     17\n",
      "2     OB     21\n"
     ]
    }
   ],
   "source": [
    "#count per regime\n",
    "regime_counts = sites_7daysplus.groupby('regime').size().reset_index(name='count')\n",
    "print(regime_counts)"
   ]
  },
  {
   "cell_type": "markdown",
   "id": "c80f2364-9b9f-44f3-adf4-965cbafe4880",
   "metadata": {},
   "source": [
    "### **Step 3 - limit data to first 7 days**"
   ]
  },
  {
   "cell_type": "code",
   "execution_count": 13,
   "id": "73b5ef80-894b-4750-b1fa-c30be5af443c",
   "metadata": {},
   "outputs": [],
   "source": [
    "# refine the dataset\n",
    "\n",
    "#select only necessary columns from sites_7daysplus\n",
    "summary_cols = ['site', 'min', 'max']\n",
    "summary_trimmed = sites_7daysplus[summary_cols].copy()\n",
    "\n",
    "# check for key integrity\n",
    "assert summary_trimmed['site'].is_unique, \"Non-unique site keys in site_summary_2021\"\n",
    "\n",
    "# merge with features plus embeddings dataframe\n",
    "features_enriched = NB25_fm_2021_7day.merge(\n",
    "    summary_trimmed,\n",
    "    on='site',\n",
    "    how='left',\n",
    "    validate='many_to_one')"
   ]
  },
  {
   "cell_type": "code",
   "execution_count": 14,
   "id": "56c4eae9-5757-4cf4-b566-91eb56478099",
   "metadata": {},
   "outputs": [],
   "source": [
    "# filter to first 7 days for each site\n",
    "\n",
    "# ensure datetime formats\n",
    "features_enriched['recorded_on'] = pd.to_datetime(features_enriched['recorded_on'], errors='coerce')\n",
    "features_enriched['min'] = pd.to_datetime(features_enriched['min'], errors='coerce')\n",
    "\n",
    "# apply vector filter\n",
    "mask = (\n",
    "    (features_enriched['recorded_on'] >= features_enriched['min']) &\n",
    "    (features_enriched['recorded_on'] <= features_enriched['min'] + pd.Timedelta(days=7)))\n",
    "\n",
    "# filter dataframe\n",
    "nepalbirds_features2021_7daylimit = features_enriched[mask]"
   ]
  },
  {
   "cell_type": "code",
   "execution_count": 17,
   "id": "e8e5e720-ad41-4756-8304-e3cea7920cc6",
   "metadata": {},
   "outputs": [
    {
     "data": {
      "text/plain": [
       "(774174, 1033)"
      ]
     },
     "execution_count": 17,
     "metadata": {},
     "output_type": "execute_result"
    }
   ],
   "source": [
    "nepalbirds_features2021_7daylimit.shape"
   ]
  },
  {
   "cell_type": "markdown",
   "id": "501709ad-6cb8-404f-95eb-90491f4e3a6d",
   "metadata": {},
   "source": [
    "### **Step 4 - filter to every 1/8 recordings to make processing manageable**"
   ]
  },
  {
   "cell_type": "code",
   "execution_count": 29,
   "id": "0235d83c-7cc8-4840-9d19-cf0fba3be326",
   "metadata": {},
   "outputs": [],
   "source": [
    "# create a function to return only rows recorded on the hour for every even hour with copy to avoid warnings\n",
    "def filter_every_other_hour_on_the_hour(df):\n",
    "    df = df.copy() \n",
    "    df['recorded_on'] = pd.to_datetime(df['recorded_on'], errors='coerce')\n",
    "    on_the_hour = df[\n",
    "        (df['recorded_on'].dt.minute == 0) &\n",
    "        (df['recorded_on'].dt.second == 0)]\n",
    "\n",
    "# adjust to keep only rows where the hour is even\n",
    "    filtered = on_the_hour[on_the_hour['recorded_on'].dt.hour % 2 == 0]\n",
    "    return filtered.sort_values(['site', 'recorded_on']).reset_index(drop=True)\n",
    "\n",
    "# apply to your features dataframe\n",
    "nepalbirds2021_sample3_even = filter_every_other_hour_on_the_hour(nepalbirds_features2021_7daylimit)"
   ]
  },
  {
   "cell_type": "code",
   "execution_count": 30,
   "id": "5bb8cec4-1475-49d6-a8c8-127209adfa3e",
   "metadata": {},
   "outputs": [
    {
     "data": {
      "text/plain": [
       "(96807, 1033)"
      ]
     },
     "execution_count": 30,
     "metadata": {},
     "output_type": "execute_result"
    }
   ],
   "source": [
    "nepalbirds2021_sample3_even.shape"
   ]
  },
  {
   "cell_type": "markdown",
   "id": "f294e8c9-781f-4b20-932b-cdd9521a799f",
   "metadata": {},
   "source": [
    "**Export stratified 2021 sample to csv**"
   ]
  },
  {
   "cell_type": "code",
   "execution_count": 31,
   "id": "3a79767e-84a8-4dea-8049-98de53a75cfa",
   "metadata": {},
   "outputs": [],
   "source": [
    "nepalbirds2021_sample3_even.to_csv(\"nepalbirds2021_sample3_even.csv\", index=False)"
   ]
  },
  {
   "cell_type": "markdown",
   "id": "92a534ce-87dc-4b30-b524-0555696e0bca",
   "metadata": {},
   "source": [
    "***************"
   ]
  }
 ],
 "metadata": {
  "kernelspec": {
   "display_name": "Python (nepalbirds25)",
   "language": "python",
   "name": "nepalbirds25"
  },
  "language_info": {
   "codemirror_mode": {
    "name": "ipython",
    "version": 3
   },
   "file_extension": ".py",
   "mimetype": "text/x-python",
   "name": "python",
   "nbconvert_exporter": "python",
   "pygments_lexer": "ipython3",
   "version": "3.11.13"
  }
 },
 "nbformat": 4,
 "nbformat_minor": 5
}
